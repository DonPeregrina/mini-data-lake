{
 "metadata": {
  "language_info": {
   "codemirror_mode": {
    "name": "ipython",
    "version": 3
   },
   "file_extension": ".py",
   "mimetype": "text/x-python",
   "name": "python",
   "nbconvert_exporter": "python",
   "pygments_lexer": "ipython3",
   "version": "3.8.8"
  },
  "orig_nbformat": 2,
  "kernelspec": {
   "name": "python388jvsc74a57bd0fa6eeae98848698676df80e0f28010499caa7e0e2610d0a7d38878e1efe1ab01",
   "display_name": "Python 3.8.8 64-bit (conda)"
  },
  "metadata": {
   "interpreter": {
    "hash": "fa6eeae98848698676df80e0f28010499caa7e0e2610d0a7d38878e1efe1ab01"
   }
  }
 },
 "nbformat": 4,
 "nbformat_minor": 2,
 "cells": [
  {
   "cell_type": "code",
   "execution_count": 2,
   "metadata": {},
   "outputs": [],
   "source": [
    "import subprocess\n",
    "import os\n",
    "filename_fs = 'news/Samuel_Garcia/'"
   ]
  },
  {
   "cell_type": "code",
   "execution_count": null,
   "metadata": {},
   "outputs": [],
   "source": [
    "%%bash\n",
    "echo @hel"
   ]
  },
  {
   "cell_type": "code",
   "execution_count": 28,
   "metadata": {},
   "outputs": [
    {
     "output_type": "execute_result",
     "data": {
      "text/plain": [
       "CompletedProcess(args=['sh', 'get_news.sh', '5', 'Samuel Garcia', 'Samuel_Garcia', '2021', '04', '01', 'news'], returncode=1, stdout=b'', stderr=b'\"sh\" no se reconoce como un comando interno o externo,\\r\\nprograma o archivo por lotes ejecutable.\\r\\n')"
      ]
     },
     "metadata": {},
     "execution_count": 28
    }
   ],
   "source": [
    "from os import path\n",
    "subprocess.run(['sh','get_news.sh','5', 'Samuel Garcia', 'Samuel_Garcia','2021','04','01','news'],shell=True,capture_output=True)\n",
    "\n",
    "\n",
    "\n",
    "    "
   ]
  },
  {
   "cell_type": "code",
   "execution_count": 36,
   "metadata": {},
   "outputs": [],
   "source": [
    "with open('output.txt','w') as f:\n",
    "    p1 = subprocess.run(['sh','get_news.sh','5', 'Samuel Garcia', 'Samuel_Garcia','2021','04','01','news'],shell=True,capture_output=True)\n",
    "    f.write(str(p1.stderr))\n",
    "    f.write('\\n' + str(p1.stdout))\n",
    "    "
   ]
  },
  {
   "cell_type": "code",
   "execution_count": 66,
   "metadata": {},
   "outputs": [
    {
     "output_type": "error",
     "ename": "FileNotFoundError",
     "evalue": "[WinError 3] El sistema no puede encontrar la ruta especificada: 'extractions/extractions1/'",
     "traceback": [
      "\u001b[1;31m---------------------------------------------------------------------------\u001b[0m",
      "\u001b[1;31mFileNotFoundError\u001b[0m                         Traceback (most recent call last)",
      "\u001b[1;32m<ipython-input-66-1254af75c686>\u001b[0m in \u001b[0;36m<module>\u001b[1;34m\u001b[0m\n\u001b[0;32m      1\u001b[0m \u001b[1;31m#os.chdir(\"../extractions\")\u001b[0m\u001b[1;33m\u001b[0m\u001b[1;33m\u001b[0m\u001b[1;33m\u001b[0m\u001b[0m\n\u001b[0;32m      2\u001b[0m \u001b[0morigin_path\u001b[0m \u001b[1;33m=\u001b[0m \u001b[0mos\u001b[0m\u001b[1;33m.\u001b[0m\u001b[0mgetcwd\u001b[0m\u001b[1;33m(\u001b[0m\u001b[1;33m)\u001b[0m\u001b[1;33m\u001b[0m\u001b[1;33m\u001b[0m\u001b[0m\n\u001b[1;32m----> 3\u001b[1;33m \u001b[0mos\u001b[0m\u001b[1;33m.\u001b[0m\u001b[0mchdir\u001b[0m\u001b[1;33m(\u001b[0m\u001b[1;34m'extractions/extractions1/'\u001b[0m\u001b[1;33m)\u001b[0m\u001b[1;33m\u001b[0m\u001b[1;33m\u001b[0m\u001b[0m\n\u001b[0m\u001b[0;32m      4\u001b[0m \u001b[0mvar1\u001b[0m \u001b[1;33m=\u001b[0m \u001b[1;34m\"folderagain\"\u001b[0m\u001b[1;33m\u001b[0m\u001b[1;33m\u001b[0m\u001b[0m\n\u001b[0;32m      5\u001b[0m \u001b[1;33m\u001b[0m\u001b[0m\n",
      "\u001b[1;31mFileNotFoundError\u001b[0m: [WinError 3] El sistema no puede encontrar la ruta especificada: 'extractions/extractions1/'"
     ]
    }
   ],
   "source": [
    "#os.chdir(\"../extractions\")\n",
    "origin_path = os.getcwd()\n",
    "os.chdir('extractions/extractions1/')\n",
    "var1 = \"folderagain\"\n",
    "\n",
    "p=subprocess.Popen(\"mkdir \"+ var1, shell=True,stderr=subprocess.STDOUT, stdout=subprocess.PIPE,capture_output=True)\n",
    "(stdout, stderr) = p.communicate()\n",
    "print(p.returncode)\n",
    "print(stderr)\n",
    "\n",
    "#os.chdir(\"extractions1\")"
   ]
  },
  {
   "cell_type": "code",
   "execution_count": null,
   "metadata": {},
   "outputs": [],
   "source": []
  },
  {
   "cell_type": "code",
   "execution_count": 65,
   "metadata": {},
   "outputs": [
    {
     "output_type": "execute_result",
     "data": {
      "text/plain": [
       "'d:\\\\GitHub\\\\mini-data-lake\\\\notebooks\\\\libs'"
      ]
     },
     "metadata": {},
     "execution_count": 65
    }
   ],
   "source": [
    "#os.chdir('../../')\n",
    "origin_path"
   ]
  },
  {
   "cell_type": "code",
   "execution_count": 68,
   "metadata": {},
   "outputs": [
    {
     "output_type": "execute_result",
     "data": {
      "text/plain": [
       "'d:\\\\GitHub\\\\mini-data-lake\\\\notebooks\\\\libs\\\\extractions\\\\extractions1'"
      ]
     },
     "metadata": {},
     "execution_count": 68
    }
   ],
   "source": [
    "os.getcwd()"
   ]
  },
  {
   "cell_type": "code",
   "execution_count": 70,
   "metadata": {},
   "outputs": [
    {
     "output_type": "execute_result",
     "data": {
      "text/plain": [
       "'d:\\\\GitHub\\\\mini-data-lake\\\\notebooks\\\\libs'"
      ]
     },
     "metadata": {},
     "execution_count": 70
    }
   ],
   "source": [
    "os.chdir('../../')\n",
    "os.getcwd()"
   ]
  },
  {
   "cell_type": "code",
   "execution_count": 75,
   "metadata": {},
   "outputs": [],
   "source": [
    "p3 = subprocess.run(\"dir\",shell=True,capture_output=True, text=True)"
   ]
  },
  {
   "cell_type": "code",
   "execution_count": 76,
   "metadata": {},
   "outputs": [
    {
     "output_type": "stream",
     "name": "stdout",
     "text": [
      "CompletedProcess(args='dir', returncode=0, stdout=' El volumen de la unidad D es Data\\n El n£mero de serie del volumen es: 8E78-DEFC\\n\\n Directorio de d:\\\\GitHub\\\\mini-data-lake\\\\notebooks\\\\libs\\n\\n25/04/2021  06:06 p. m.    <DIR>          .\\n25/04/2021  06:06 p. m.    <DIR>          ..\\n25/04/2021  02:46 p. m.    <DIR>          extractions\\n25/04/2021  05:48 p. m.    <DIR>          extractions2\\n25/04/2021  06:06 p. m.    <DIR>          folderagain\\n19/03/2021  03:55 p. m.               197 get_news.sh\\n19/03/2021  03:55 p. m.           139,805 googler_new.py\\n25/04/2021  12:42 p. m.               110 output.txt\\n25/04/2021  08:12 p. m.             6,926 test.ipynb\\n               4 archivos        147,038 bytes\\n               5 dirs  299,061,096,448 bytes libres\\n', stderr='')\n"
     ]
    }
   ],
   "source": [
    "print(p3)"
   ]
  },
  {
   "cell_type": "code",
   "execution_count": 77,
   "metadata": {},
   "outputs": [
    {
     "output_type": "execute_result",
     "data": {
      "text/plain": [
       "'d:\\\\GitHub\\\\mini-data-lake\\\\notebooks\\\\libs'"
      ]
     },
     "metadata": {},
     "execution_count": 77
    }
   ],
   "source": [
    "os.getcwd()"
   ]
  },
  {
   "cell_type": "code",
   "execution_count": 87,
   "metadata": {},
   "outputs": [],
   "source": [
    "import sys\n",
    "var1 = \"test2\"\n",
    "try:\n",
    "    os.makedirs(var1)\n",
    "except OSError as err:\n",
    "    print('ya existe ese direcgorio'+ str(err))"
   ]
  },
  {
   "cell_type": "code",
   "execution_count": null,
   "metadata": {},
   "outputs": [],
   "source": []
  }
 ]
}