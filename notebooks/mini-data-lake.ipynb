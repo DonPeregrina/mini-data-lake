{
 "cells": [
  {
   "cell_type": "code",
   "execution_count": 1,
   "id": "national-donor",
   "metadata": {},
   "outputs": [],
   "source": [
    "from pyspark import SparkConf, SparkContext\n",
    "from pyspark.sql import SparkSession\n",
    "from pyspark.sql import *\n",
    "from pyspark.sql.types import *\n",
    "from pyspark.sql.functions import udf\n",
    "from pyspark.sql.functions import *\n",
    "from pyspark.sql.window import Window\n",
    "NoneType = type(None)\n",
    "import os\n",
    "import socket\n",
    "import hashlib\n",
    "import string\n",
    "\n",
    "import time\n",
    "from osgeo import ogr\n",
    "import geopandas as gpd\n",
    "from pyspark.sql import SparkSession\n",
    "from sedona.register import SedonaRegistrator\n",
    "from sedona.utils import SedonaKryoRegistrator, KryoSerializer"
   ]
  },
  {
   "cell_type": "code",
   "execution_count": 2,
   "id": "oriental-medicaid",
   "metadata": {},
   "outputs": [],
   "source": [
    "def createMd5(text):\n",
    "    return hashlib.md5(text.encode('utf-8')).hexdigest()\n",
    "md5Udf= udf(lambda z: createMd5(z),StringType())\n",
    "\n",
    "def clean_lower(text):\n",
    "    sentence = text.translate(str.maketrans('', '', '!\"#$%&\\'()*+,./:;<=>?@[\\\\]^`{|}~-_”“«»‘')).lower()\n",
    "    return \" \".join(sentence.split())\n",
    "cleanLowerUdf= udf(lambda z: clean_lower(z),StringType())\n",
    "\n",
    "def get_site_from_url(text):\n",
    "    return text.split(\"/\")[2]\n",
    "getUrl= udf(lambda z: get_site_from_url(z),StringType())    \n"
   ]
  },
  {
   "cell_type": "code",
   "execution_count": 3,
   "id": "northern-pacific",
   "metadata": {},
   "outputs": [
    {
     "data": {
      "text/plain": [
       "True"
      ]
     },
     "execution_count": 3,
     "metadata": {},
     "output_type": "execute_result"
    }
   ],
   "source": [
    "minio_ip = socket.gethostbyname('minio')\n",
    "spark = SparkSession. \\\n",
    "    builder. \\\n",
    "    appName(\"Python Spark S3\"). \\\n",
    "    config(\"spark.serializer\", KryoSerializer.getName). \\\n",
    "    config(\"spark.executor.memory\", \"80g\"). \\\n",
    "    config(\"spark.driver.memory\", \"80g\"). \\\n",
    "    config('spark.dirver.maxResultSize', '5g'). \\\n",
    "    config(\"spark.kryo.registrator\", SedonaKryoRegistrator.getName). \\\n",
    "    config('spark.hadoop.fs.s3a.endpoint', 'http://'+minio_ip+':9000'). \\\n",
    "    config(\"spark.hadoop.fs.s3a.access.key\", \"minio-access-key\"). \\\n",
    "    config(\"spark.hadoop.fs.s3a.secret.key\", \"minio-secret-key\"). \\\n",
    "    config('spark.hadoop.fs.s3a.impl', 'org.apache.hadoop.fs.s3a.S3AFileSystem'). \\\n",
    "    config('spark.jars.packages',\n",
    "           'org.apache.sedona:sedona-python-adapter-3.0_2.12:1.0.0-incubating,org.datasyslab:geotools-wrapper:geotools-24.0'). \\\n",
    "    getOrCreate()\n",
    "SedonaRegistrator.registerAll(spark)"
   ]
  },
  {
   "cell_type": "code",
   "execution_count": 4,
   "id": "connected-tribe",
   "metadata": {},
   "outputs": [],
   "source": [
    "\n",
    "st= StructType([\n",
    "    StructField(\"abstract\", StringType()),\n",
    "    StructField(\"authors\", StringType()),\n",
    "    StructField(\"image\", StringType()),\n",
    "    StructField(\"metadata\", StringType()),\n",
    "    StructField(\"publish_date\", TimestampType()),\n",
    "    StructField(\"text\", StringType()),\n",
    "    StructField(\"title\", StringType()),\n",
    "    StructField(\"url\", StringType()),\n",
    "])"
   ]
  },
  {
   "cell_type": "code",
   "execution_count": 5,
   "id": "selected-tutorial",
   "metadata": {},
   "outputs": [],
   "source": [
    "df_news_covid_mexico = spark \\\n",
    "                        .read.schema(st).option(\"timestampFormat\", \"dd-MM-yyyy\") \\\n",
    "                        .json(\"s3a://news/covid_mexico/*.json\")"
   ]
  },
  {
   "cell_type": "code",
   "execution_count": 6,
   "id": "acute-grain",
   "metadata": {},
   "outputs": [
    {
     "data": {
      "text/plain": [
       "128"
      ]
     },
     "execution_count": 6,
     "metadata": {},
     "output_type": "execute_result"
    }
   ],
   "source": [
    "df_news_covid_mexico.count()"
   ]
  },
  {
   "cell_type": "code",
   "execution_count": 7,
   "id": "similar-craft",
   "metadata": {},
   "outputs": [
    {
     "name": "stdout",
     "output_type": "stream",
     "text": [
      "root\n",
      " |-- abstract: string (nullable = true)\n",
      " |-- authors: string (nullable = true)\n",
      " |-- image: string (nullable = true)\n",
      " |-- metadata: string (nullable = true)\n",
      " |-- publish_date: timestamp (nullable = true)\n",
      " |-- text: string (nullable = true)\n",
      " |-- title: string (nullable = true)\n",
      " |-- url: string (nullable = true)\n",
      "\n"
     ]
    }
   ],
   "source": [
    "df_news_covid_mexico.printSchema()"
   ]
  },
  {
   "cell_type": "code",
   "execution_count": 8,
   "id": "liquid-pound",
   "metadata": {},
   "outputs": [
    {
     "name": "stdout",
     "output_type": "stream",
     "text": [
      "+--------------------+-----------+--------------------+--------------------+-------------------+--------------------+--------------------+--------------------+\n",
      "|            abstract|    authors|               image|            metadata|       publish_date|                text|               title|                 url|\n",
      "+--------------------+-----------+--------------------+--------------------+-------------------+--------------------+--------------------+--------------------+\n",
      "|CIUDAD DE MÉXICO....|           |https://cdn2.exce...|Excélsior, hace 6...|2021-03-21 00:00:00|Al hacer click en...|México se acerca ...|https://www.excel...|\n",
      "|México lleva apli...|           |                    |Aristeguinoticias...|               null|                    |México lleva apli...|https://aristegui...|\n",
      "|México ha aplicad...|           |                    |   MSN, hace 6 horas|               null|                    |México ha aplicad...|https://www.msn.c...|\n",
      "|Los principales p...|           |                    |El Occidental, ha...|               null|                    |Por Covid, rechaz...|https://www.elocc...|\n",
      "|“Si vacunamos a t...|           |                    |El Sol de México,...|               null|                    |Que nos agarre ya...|https://www.elsol...|\n",
      "|Empero sólo Campe...|           |                    |Milenio.com, hace...|               null|                    |Covid-19. El regr...|https://www.milen...|\n",
      "|Mapa del coronavi...|De Marzo De|https://www.infob...|infobae América, ...|2021-03-21 00:00:00|(Gráfica: Jovani ...|Mapa del coronavi...|https://www.infob...|\n",
      "|El Abierto Mexica...|           |                    |Deutsche Welle, h...|               null|                    |Zverev, primer al...|https://www.dw.co...|\n",
      "|En los últimos dí...|           |https://www.anima...|Animal Político, ...|2021-03-21 00:00:00|En los últimos dí...|Las claves e incó...|https://www.anima...|\n",
      "|Desde marzo de 20...|De Marzo De|https://www.infob...|infobae América, ...|2021-03-21 00:00:00|Las instalaciones...|“Abre mi escuela”...|https://www.infob...|\n",
      "+--------------------+-----------+--------------------+--------------------+-------------------+--------------------+--------------------+--------------------+\n",
      "only showing top 10 rows\n",
      "\n"
     ]
    }
   ],
   "source": [
    "df_news_covid_mexico.show(10)"
   ]
  },
  {
   "cell_type": "code",
   "execution_count": 9,
   "id": "associate-preserve",
   "metadata": {},
   "outputs": [],
   "source": [
    "df_news_covid_mexico_date_text = df_news_covid_mexico.select(md5Udf(\"url\").alias(\"article_id\"),\"title\",\"url\",\"publish_date\",cleanLowerUdf(\"text\").alias(\"clean_text\"),getUrl(\"url\").alias(\"site\")).filter(\"length(text) >= 2\")"
   ]
  },
  {
   "cell_type": "code",
   "execution_count": 10,
   "id": "changing-douglas",
   "metadata": {},
   "outputs": [
    {
     "name": "stdout",
     "output_type": "stream",
     "text": [
      "+--------------------+--------------------+--------------------+-------------------+--------------------+--------------------+\n",
      "|          article_id|               title|                 url|       publish_date|          clean_text|                site|\n",
      "+--------------------+--------------------+--------------------+-------------------+--------------------+--------------------+\n",
      "|562d622a58c373745...|México se acerca ...|https://www.excel...|2021-03-21 00:00:00|al hacer click en...|www.excelsior.com.mx|\n",
      "|b77cd49c6e490dc06...|Mapa del coronavi...|https://www.infob...|2021-03-21 00:00:00|gráfica jovani pé...|     www.infobae.com|\n",
      "|70d59b3cac0a6cc24...|Las claves e incó...|https://www.anima...|2021-03-21 00:00:00|en los últimos dí...|www.animalpolitic...|\n",
      "|e7d826dfb328b0d24...|“Abre mi escuela”...|https://www.infob...|2021-03-21 00:00:00|las instalaciones...|     www.infobae.com|\n",
      "|d453f2247fda4ef5d...|Covid-19 afecta f...|https://www.eluni...|2021-03-21 00:00:00|la arquidiócesis ...|www.eluniversal.c...|\n",
      "|324ff9866349b35c7...|Estado de México ...|https://www.infob...|2021-03-21 00:00:00|narrativa domingo...|     www.infobae.com|\n",
      "|4174cc0d5d1a1b893...|70% de familias d...|https://www.eluni...|2021-03-21 00:00:00|al 15 de marzo pa...|www.eluniversal.c...|\n",
      "|9718ae87edc04fff2...|Vacuna Covid-19 e...|https://www.marca...|2021-03-21 00:00:00|la pandemia por c...|       www.marca.com|\n",
      "|29a518094e7b46133...|El fármaco Napabe...|https://www.jorna...|2021-03-21 00:00:00|la comisión feder...|  www.jornada.com.mx|\n",
      "|e24f8c7b91fa302ca...|Ciudad de México ...|https://www.infob...|2021-03-21 00:00:00|narrativa domingo...|     www.infobae.com|\n",
      "|2ae8936590ffd0526...|Coronavirus.- La ...|https://www.infob...|2021-03-21 00:00:00|madrid 21 europa ...|     www.infobae.com|\n",
      "|da439be51b588fd3e...|Jalisco: caos y l...|https://www.jorna...|2021-03-21 00:00:00|guadalajara jal a...|  www.jornada.com.mx|\n",
      "|41a61bb15e84d262c...|Todo lo que debes...|https://www.milen...|2021-03-21 00:00:00|gustavo pacheco a...|     www.milenio.com|\n",
      "|03c27b6e6ffeb0400...|Aseguran laborato...|https://noticiero...|2021-03-21 00:00:00|elementos ministe...|noticieros.televi...|\n",
      "|61f85cb23d9827940...|'We got bored and...|https://www.usato...|2021-03-21 00:00:00|cancun getty imag...|    www.usatoday.com|\n",
      "+--------------------+--------------------+--------------------+-------------------+--------------------+--------------------+\n",
      "only showing top 15 rows\n",
      "\n"
     ]
    }
   ],
   "source": [
    "df_news_covid_mexico_date_text.show(15)"
   ]
  },
  {
   "cell_type": "code",
   "execution_count": 11,
   "id": "legislative-seminar",
   "metadata": {},
   "outputs": [
    {
     "data": {
      "text/plain": [
       "85"
      ]
     },
     "execution_count": 11,
     "metadata": {},
     "output_type": "execute_result"
    }
   ],
   "source": [
    "df_news_covid_mexico_date_text.count()"
   ]
  },
  {
   "cell_type": "code",
   "execution_count": 12,
   "id": "developed-pontiac",
   "metadata": {},
   "outputs": [
    {
     "name": "stdout",
     "output_type": "stream",
     "text": [
      "+---------------------------------------------------------------------------------------------------------------------------+\n",
      "|title                                                                                                                      |\n",
      "+---------------------------------------------------------------------------------------------------------------------------+\n",
      "|México se acerca a los 198 mil decesos por covid                                                                           |\n",
      "|Mapa del coronavirus en México 21 de marzo: Querétaro ya es el tercer estado con más contagios activos detrás CDMX y Edomex|\n",
      "|Las claves e incógnitas del nuevo plan para frenar la ...                                                                  |\n",
      "|“Abre mi escuela”: exigieron regresar a clases presenciales en 10 estados a un año del cierre por COVID-19                 |\n",
      "|Covid-19 afecta festejos en iglesia | El Universal                                                                         |\n",
      "|Estado de México no registra nuevas muertes por coronavirus en el último día                                               |\n",
      "|70% de familias de muertos por Covid-19 siguen sin apoyo | El Universal                                                    |\n",
      "|Vacuna Covid-19 en México este 21 de marzo: Vacunas aplicadas, casos de coronavirus y muertes                              |\n",
      "|El fármaco Napabeltan no tiene autorización de uso seguro ...                                                              |\n",
      "|Ciudad de México acumula 594.301 contagios y 29.701 fallecimientos desde el inicio de la pandemia                          |\n",
      "|Coronavirus.- La pandemia roza los 123 millones de contagios mundiales tras dejar casi 500.000 nuevos casos                |\n",
      "|Jalisco: caos y larga espera en el primer día de vacunación                                                                |\n",
      "|Todo lo que debes saber de la vacuna contra covid-19 de AstraZeneca                                                        |\n",
      "|Aseguran laboratorios en Cancún que aplicaron pruebas COVID a jóvenes argentinos                                           |\n",
      "|'We got bored and wanted to go on a trip': Tales from a pandemic spring break in Cancun, Mexico                            |\n",
      "+---------------------------------------------------------------------------------------------------------------------------+\n",
      "only showing top 15 rows\n",
      "\n"
     ]
    }
   ],
   "source": [
    "df_news_covid_mexico_date_text.select(\"title\").show(15,False)"
   ]
  },
  {
   "cell_type": "code",
   "execution_count": 13,
   "id": "developing-dealer",
   "metadata": {},
   "outputs": [],
   "source": [
    "url = \"jdbc:postgresql://postgres/shared\"\n",
    "mode=\"overwrite\"\n",
    "properties = {\n",
    "    \"user\": \"shared\",\n",
    "    \"password\": os.environ['SHARED_PASSWORD']\n",
    "}"
   ]
  },
  {
   "cell_type": "code",
   "execution_count": null,
   "id": "settled-representative",
   "metadata": {},
   "outputs": [],
   "source": []
  },
  {
   "cell_type": "code",
   "execution_count": 14,
   "id": "chinese-medicaid",
   "metadata": {},
   "outputs": [],
   "source": [
    "df_news_covid_mexico_date_text.write.jdbc(url=url, table=\"tb_news_covid_mexico_date_text\", mode=mode, properties=properties)"
   ]
  },
  {
   "cell_type": "code",
   "execution_count": 15,
   "id": "informal-october",
   "metadata": {},
   "outputs": [],
   "source": [
    "df_news_covid_mexico_palabras = df_news_covid_mexico_date_text.select(\"article_id\",\"publish_date\",explode(split(df_news_covid_mexico_date_text.clean_text, \"\\s\")).alias(\"palabra\")).where(length('palabra') > 1)"
   ]
  },
  {
   "cell_type": "code",
   "execution_count": 16,
   "id": "round-xerox",
   "metadata": {},
   "outputs": [
    {
     "name": "stdout",
     "output_type": "stream",
     "text": [
      "+--------------------+-------------------+-----------+\n",
      "|          article_id|       publish_date|    palabra|\n",
      "+--------------------+-------------------+-----------+\n",
      "|562d622a58c373745...|2021-03-21 00:00:00|         al|\n",
      "|562d622a58c373745...|2021-03-21 00:00:00|      hacer|\n",
      "|562d622a58c373745...|2021-03-21 00:00:00|      click|\n",
      "|562d622a58c373745...|2021-03-21 00:00:00|         en|\n",
      "|562d622a58c373745...|2021-03-21 00:00:00|     enviar|\n",
      "|562d622a58c373745...|2021-03-21 00:00:00|   quedaras|\n",
      "|562d622a58c373745...|2021-03-21 00:00:00|   regitrad|\n",
      "|562d622a58c373745...|2021-03-21 00:00:00|    nuestro|\n",
      "|562d622a58c373745...|2021-03-21 00:00:00|    boletín|\n",
      "|562d622a58c373745...|2021-03-21 00:00:00|         el|\n",
      "|562d622a58c373745...|2021-03-21 00:00:00|       cual|\n",
      "|562d622a58c373745...|2021-03-21 00:00:00|     podrás|\n",
      "|562d622a58c373745...|2021-03-21 00:00:00|   cancelar|\n",
      "|562d622a58c373745...|2021-03-21 00:00:00|         en|\n",
      "|562d622a58c373745...|2021-03-21 00:00:00|  cualquier|\n",
      "|562d622a58c373745...|2021-03-21 00:00:00|  momentono|\n",
      "|562d622a58c373745...|2021-03-21 00:00:00|    olvides|\n",
      "|562d622a58c373745...|2021-03-21 00:00:00|    revisar|\n",
      "|562d622a58c373745...|2021-03-21 00:00:00|         tu|\n",
      "|562d622a58c373745...|2021-03-21 00:00:00|    carpeta|\n",
      "|562d622a58c373745...|2021-03-21 00:00:00|         de|\n",
      "|562d622a58c373745...|2021-03-21 00:00:00|       spam|\n",
      "|562d622a58c373745...|2021-03-21 00:00:00|     ciudad|\n",
      "|562d622a58c373745...|2021-03-21 00:00:00|         de|\n",
      "|562d622a58c373745...|2021-03-21 00:00:00|     méxico|\n",
      "|562d622a58c373745...|2021-03-21 00:00:00|         la|\n",
      "|562d622a58c373745...|2021-03-21 00:00:00|        ssa|\n",
      "|562d622a58c373745...|2021-03-21 00:00:00|    reportó|\n",
      "|562d622a58c373745...|2021-03-21 00:00:00|        608|\n",
      "|562d622a58c373745...|2021-03-21 00:00:00|defunciones|\n",
      "+--------------------+-------------------+-----------+\n",
      "only showing top 30 rows\n",
      "\n"
     ]
    }
   ],
   "source": [
    "df_news_covid_mexico_palabras.show(30)"
   ]
  },
  {
   "cell_type": "code",
   "execution_count": 17,
   "id": "representative-picture",
   "metadata": {},
   "outputs": [
    {
     "name": "stdout",
     "output_type": "stream",
     "text": [
      "+--------------------+-------+-------------------+-----+\n",
      "|          article_id|palabra|       publish_date|count|\n",
      "+--------------------+-------+-------------------+-----+\n",
      "|61f85cb23d9827940...|    the|2021-03-21 00:00:00|  129|\n",
      "|9f123746139b1f0ea...|     de|2021-03-21 00:00:00|   92|\n",
      "|6aa6971a33b988654...|     de|2021-03-21 00:00:00|   82|\n",
      "|61f85cb23d9827940...|     in|2021-03-21 00:00:00|   77|\n",
      "|61f85cb23d9827940...|    and|2021-03-21 00:00:00|   74|\n",
      "|72236c94ac71feaf4...|     de|2021-03-22 00:00:00|   74|\n",
      "|8327c6e59ed7f3df3...|     de|2021-03-21 00:00:00|   74|\n",
      "|57c9f33b7ef72ab61...|     de|2021-03-27 00:00:00|   69|\n",
      "|d5b1ce551006f587b...|     de|2021-03-21 00:00:00|   69|\n",
      "|a082606587ab3227a...|     de|2021-03-21 00:00:00|   66|\n",
      "|065df75dc352b9913...|     de|2021-03-21 00:00:00|   65|\n",
      "|70d59b3cac0a6cc24...|     de|2021-03-21 00:00:00|   64|\n",
      "|68e032f866fec4d26...|     de|2021-03-26 00:00:00|   64|\n",
      "|61f85cb23d9827940...|     to|2021-03-21 00:00:00|   63|\n",
      "|320a8502c488ae08c...|     de|2021-03-24 00:00:00|   63|\n",
      "|05e3adcba9f7c2b9f...|     de|2021-03-26 00:00:00|   63|\n",
      "|bc1da01183b8164fb...|     de|2021-03-21 00:00:00|   62|\n",
      "|a0ce891e10d4bac57...|     de|2021-03-21 00:00:00|   61|\n",
      "|ed2a11140e8d50cd8...|    the|2021-03-21 00:00:00|   60|\n",
      "|4c2b8d97bb1ceae8a...|     de|2021-03-21 00:00:00|   59|\n",
      "|9f123746139b1f0ea...|     en|2021-03-21 00:00:00|   59|\n",
      "|66419733e7e4a67e0...|     de|2021-03-21 00:00:00|   58|\n",
      "|6aa6971a33b988654...|    que|2021-03-21 00:00:00|   58|\n",
      "|85017fa18c961dd9c...|     de|2021-03-21 00:00:00|   56|\n",
      "|61f85cb23d9827940...|     of|2021-03-21 00:00:00|   56|\n",
      "+--------------------+-------+-------------------+-----+\n",
      "only showing top 25 rows\n",
      "\n"
     ]
    }
   ],
   "source": [
    "#https://sigdelta.com/blog/word-count-in-spark-with-a-pinch-of-tf-idf/\n",
    "df_news_covid_mexico_palabras.groupBy('article_id', 'palabra','publish_date')\\\n",
    "    .count()\\\n",
    "    .orderBy('count', ascending=False)\\\n",
    "    .show(25)"
   ]
  },
  {
   "cell_type": "code",
   "execution_count": 18,
   "id": "interim-destination",
   "metadata": {},
   "outputs": [
    {
     "name": "stdout",
     "output_type": "stream",
     "text": [
      "+---------------+-------+---------------+---+----+---------------+\n",
      "|     article_id|palabra|   publish_date|n_w| n_d|             tf|\n",
      "+---------------+-------+---------------+---+----+---------------+\n",
      "|61f85cb23d98...|    the|2021-03-21 0...|129|2788|0.0462697274...|\n",
      "|9f123746139b...|     de|2021-03-21 0...| 92|1093|0.0841720036...|\n",
      "|6aa6971a33b9...|     de|2021-03-21 0...| 82|1204|0.0681063122...|\n",
      "|61f85cb23d98...|     in|2021-03-21 0...| 77|2788|0.0276183644...|\n",
      "|8327c6e59ed7...|     de|2021-03-21 0...| 74| 707|0.1046676096...|\n",
      "|61f85cb23d98...|    and|2021-03-21 0...| 74|2788|0.0265423242...|\n",
      "|72236c94ac71...|     de|2021-03-22 0...| 74| 711|0.1040787623...|\n",
      "|57c9f33b7ef7...|     de|2021-03-27 0...| 69| 765|0.0901960784...|\n",
      "|d5b1ce551006...|     de|2021-03-21 0...| 69| 884|0.0780542986...|\n",
      "|a082606587ab...|     de|2021-03-21 0...| 66| 846|0.0780141843...|\n",
      "|065df75dc352...|     de|2021-03-21 0...| 65| 716|0.0907821229...|\n",
      "|68e032f866fe...|     de|2021-03-26 0...| 64| 719|0.0890125173...|\n",
      "|70d59b3cac0a...|     de|2021-03-21 0...| 64| 958|0.0668058455...|\n",
      "|61f85cb23d98...|     to|2021-03-21 0...| 63|2788|0.0225968436...|\n",
      "|05e3adcba9f7...|     de|2021-03-26 0...| 63| 761|0.0827858081...|\n",
      "|320a8502c488...|     de|2021-03-24 0...| 63| 787|0.0800508259...|\n",
      "|bc1da01183b8...|     de|2021-03-21 0...| 62| 780|0.0794871794...|\n",
      "|a0ce891e10d4...|     de|2021-03-21 0...| 61| 497|0.1227364185...|\n",
      "|ed2a11140e8d...|    the|2021-03-21 0...| 60| 937|0.0640341515...|\n",
      "|4c2b8d97bb1c...|     de|2021-03-21 0...| 59| 876|0.0673515981...|\n",
      "+---------------+-------+---------------+---+----+---------------+\n",
      "only showing top 20 rows\n",
      "\n"
     ]
    }
   ],
   "source": [
    "#https://sigdelta.com/blog/word-count-in-spark-with-a-pinch-of-tf-idf-continued/\n",
    "w = Window.partitionBy(df_news_covid_mexico_palabras['article_id'])\n",
    "\n",
    "article_tf = df_news_covid_mexico_palabras.groupBy('article_id', 'palabra', 'publish_date')\\\n",
    "    .agg(count('*').alias('n_w'),sum(count('*')).over(w).alias('n_d'),(count('*')/sum(count('*')).over(w)).alias('tf'))\\\n",
    "    .orderBy('n_w', ascending=False)\\\n",
    "    .cache()\n",
    "\n",
    "article_tf.show(truncate=15)"
   ]
  },
  {
   "cell_type": "code",
   "execution_count": 21,
   "id": "present-travel",
   "metadata": {},
   "outputs": [],
   "source": [
    "w = Window.partitionBy('palabra')\n",
    "\n",
    "c_d = df_news_covid_mexico_palabras.select('article_id').distinct().count()\n",
    "\n",
    "article_idf = df_news_covid_mexico_palabras.groupBy('palabra', 'article_id','publish_date').agg(\n",
    "        lit(c_d).alias('c_d'),\n",
    "        count('*').over(w).alias('i_d'),\n",
    "        log(lit(c_d)/count('*').over(w)).alias('idf')\n",
    "    )\\\n",
    "    .orderBy('idf', ascending=False)\\\n",
    "    .cache()"
   ]
  },
  {
   "cell_type": "code",
   "execution_count": 22,
   "id": "flexible-duncan",
   "metadata": {},
   "outputs": [
    {
     "name": "stdout",
     "output_type": "stream",
     "text": [
      "+---------------+---------------+---------------+---+---+---------------+\n",
      "|        palabra|     article_id|   publish_date|c_d|i_d|            idf|\n",
      "+---------------+---------------+---------------+---+---+---------------+\n",
      "|            296|99aab48771a6...|2021-03-21 0...| 85|  1|4.4426512564...|\n",
      "|          49003|8327c6e59ed7...|2021-03-21 0...| 85|  1|4.4426512564...|\n",
      "|         596354|b77cd49c6e49...|2021-03-21 0...| 85|  1|4.4426512564...|\n",
      "|      advertido|713f2e2880e2...|2021-03-22 0...| 85|  1|4.4426512564...|\n",
      "|           bamx|99aab48771a6...|2021-03-21 0...| 85|  1|4.4426512564...|\n",
      "|   coincidiendo|4c2b8d97bb1c...|2021-03-21 0...| 85|  1|4.4426512564...|\n",
      "|       consumen|9f123746139b...|2021-03-21 0...| 85|  1|4.4426512564...|\n",
      "|           didi|7a3031279dfe...|2021-03-21 0...| 85|  1|4.4426512564...|\n",
      "|         eligen|6aa6971a33b9...|2021-03-21 0...| 85|  1|4.4426512564...|\n",
      "|     etiquetado|29a518094e7b...|2021-03-21 0...| 85|  1|4.4426512564...|\n",
      "|            few|61f85cb23d98...|2021-03-21 0...| 85|  1|4.4426512564...|\n",
      "|     inventando|66419733e7e4...|2021-03-21 0...| 85|  1|4.4426512564...|\n",
      "|          pools|61f85cb23d98...|2021-03-21 0...| 85|  1|4.4426512564...|\n",
      "|        repetir|320a8502c488...|2021-03-24 0...| 85|  1|4.4426512564...|\n",
      "|    requirement|61f85cb23d98...|2021-03-21 0...| 85|  1|4.4426512564...|\n",
      "|          sepmx|202e89bfbaa3...|2021-03-21 0...| 85|  1|4.4426512564...|\n",
      "|     suministro|713f2e2880e2...|2021-03-22 0...| 85|  1|4.4426512564...|\n",
      "|          verte|abd44d708948...|2021-03-21 0...| 85|  1|4.4426512564...|\n",
      "|        volando|6aa6971a33b9...|2021-03-21 0...| 85|  1|4.4426512564...|\n",
      "|         waters|61f85cb23d98...|2021-03-21 0...| 85|  1|4.4426512564...|\n",
      "|           5523|8eedb3c3b3b6...|2021-03-21 0...| 85|  1|4.4426512564...|\n",
      "|      beverages|61f85cb23d98...|2021-03-21 0...| 85|  1|4.4426512564...|\n",
      "|            col|62b5d0088902...|2021-03-21 0...| 85|  1|4.4426512564...|\n",
      "|     confesados|065df75dc352...|2021-03-21 0...| 85|  1|4.4426512564...|\n",
      "|       eliminar|41a61bb15e84...|2021-03-21 0...| 85|  1|4.4426512564...|\n",
      "|         filled|61f85cb23d98...|2021-03-21 0...| 85|  1|4.4426512564...|\n",
      "|        highest|61f85cb23d98...|2021-03-21 0...| 85|  1|4.4426512564...|\n",
      "|     juniojulio|a0ce891e10d4...|2021-03-21 0...| 85|  1|4.4426512564...|\n",
      "|           malt|9f123746139b...|2021-03-21 0...| 85|  1|4.4426512564...|\n",
      "|         marley|61f85cb23d98...|2021-03-21 0...| 85|  1|4.4426512564...|\n",
      "|         nights|61f85cb23d98...|2021-03-21 0...| 85|  1|4.4426512564...|\n",
      "|          oddly|61f85cb23d98...|2021-03-21 0...| 85|  1|4.4426512564...|\n",
      "|          often|61f85cb23d98...|2021-03-21 0...| 85|  1|4.4426512564...|\n",
      "|           olas|d5b1ce551006...|2021-03-21 0...| 85|  1|4.4426512564...|\n",
      "|      partially|ed2a11140e8d...|2021-03-21 0...| 85|  1|4.4426512564...|\n",
      "|       portaron|202e89bfbaa3...|2021-03-21 0...| 85|  1|4.4426512564...|\n",
      "|     preguntaba|18dd46f597aa...|2021-03-21 0...| 85|  1|4.4426512564...|\n",
      "|          scorn|61f85cb23d98...|2021-03-21 0...| 85|  1|4.4426512564...|\n",
      "|      semblanza|d26a8e852ac2...|2021-03-21 0...| 85|  1|4.4426512564...|\n",
      "| semipresencial|7f3dab2ab309...|2021-03-21 0...| 85|  1|4.4426512564...|\n",
      "|       stations|61f85cb23d98...|2021-03-21 0...| 85|  1|4.4426512564...|\n",
      "|       vacunará|62b5d0088902...|2021-03-21 0...| 85|  1|4.4426512564...|\n",
      "|       vigentes|d5b1ce551006...|2021-03-21 0...| 85|  1|4.4426512564...|\n",
      "|          vocal|abd44d708948...|2021-03-21 0...| 85|  1|4.4426512564...|\n",
      "|         acuden|4c2b8d97bb1c...|2021-03-21 0...| 85|  1|4.4426512564...|\n",
      "|        arguing|ed2a11140e8d...|2021-03-21 0...| 85|  1|4.4426512564...|\n",
      "|      australia|713f2e2880e2...|2021-03-22 0...| 85|  1|4.4426512564...|\n",
      "|           aval|29a518094e7b...|2021-03-21 0...| 85|  1|4.4426512564...|\n",
      "|    cuestionado|6aa6971a33b9...|2021-03-21 0...| 85|  1|4.4426512564...|\n",
      "|            der|62b5d0088902...|2021-03-21 0...| 85|  1|4.4426512564...|\n",
      "|     entregaron|05e3adcba9f7...|2021-03-26 0...| 85|  1|4.4426512564...|\n",
      "|     infografía|b77cd49c6e49...|2021-03-21 0...| 85|  1|4.4426512564...|\n",
      "|   inmunológica|41a61bb15e84...|2021-03-21 0...| 85|  1|4.4426512564...|\n",
      "|     innovación|8327c6e59ed7...|2021-03-21 0...| 85|  1|4.4426512564...|\n",
      "|       internos|065df75dc352...|2021-03-21 0...| 85|  1|4.4426512564...|\n",
      "|       jardines|85017fa18c96...|2021-03-21 0...| 85|  1|4.4426512564...|\n",
      "|          marat|4c2b8d97bb1c...|2021-03-21 0...| 85|  1|4.4426512564...|\n",
      "|           mora|03c27b6e6ffe...|2021-03-21 0...| 85|  1|4.4426512564...|\n",
      "|     parentesco|4174cc0d5d1a...|2021-03-21 0...| 85|  1|4.4426512564...|\n",
      "|      propiedad|a082606587ab...|2021-03-21 0...| 85|  1|4.4426512564...|\n",
      "|    reflexionar|7f3dab2ab309...|2021-03-21 0...| 85|  1|4.4426512564...|\n",
      "|       reportes|68e032f866fe...|2021-03-26 0...| 85|  1|4.4426512564...|\n",
      "|      rezagados|85017fa18c96...|2021-03-21 0...| 85|  1|4.4426512564...|\n",
      "|        soporte|abacfa41a5fc...|2021-03-21 0...| 85|  1|4.4426512564...|\n",
      "|         trampa|5cb5333b683d...|2021-03-21 0...| 85|  1|4.4426512564...|\n",
      "|ultracongela...|05e3adcba9f7...|2021-03-26 0...| 85|  1|4.4426512564...|\n",
      "|            124|8327c6e59ed7...|2021-03-21 0...| 85|  1|4.4426512564...|\n",
      "|         acabar|70d59b3cac0a...|2021-03-21 0...| 85|  1|4.4426512564...|\n",
      "|      admitting|61f85cb23d98...|2021-03-21 0...| 85|  1|4.4426512564...|\n",
      "|           basa|68e032f866fe...|2021-03-26 0...| 85|  1|4.4426512564...|\n",
      "|    certidumbre|66419733e7e4...|2021-03-21 0...| 85|  1|4.4426512564...|\n",
      "|       colleges|61f85cb23d98...|2021-03-21 0...| 85|  1|4.4426512564...|\n",
      "|      colocaron|202e89bfbaa3...|2021-03-21 0...| 85|  1|4.4426512564...|\n",
      "|        compras|065df75dc352...|2021-03-21 0...| 85|  1|4.4426512564...|\n",
      "|    contraparte|b77cd49c6e49...|2021-03-21 0...| 85|  1|4.4426512564...|\n",
      "|         creada|66419733e7e4...|2021-03-21 0...| 85|  1|4.4426512564...|\n",
      "|    descontento|7f3dab2ab309...|2021-03-21 0...| 85|  1|4.4426512564...|\n",
      "|         dishes|6ae38bfe419d...|2021-03-21 0...| 85|  1|4.4426512564...|\n",
      "|         exacta|2aa027a3cd50...|2021-03-19 0...| 85|  1|4.4426512564...|\n",
      "|       fallecen|57c9f33b7ef7...|2021-03-27 0...| 85|  1|4.4426512564...|\n",
      "|     incorporar|62b5d0088902...|2021-03-21 0...| 85|  1|4.4426512564...|\n",
      "|     modificado|72236c94ac71...|2021-03-22 0...| 85|  1|4.4426512564...|\n",
      "|           papa|bc1da01183b8...|2021-03-21 0...| 85|  1|4.4426512564...|\n",
      "|        paulina|0f466bacde44...|2021-03-21 0...| 85|  1|4.4426512564...|\n",
      "|       presente|18dd46f597aa...|2021-03-21 0...| 85|  1|4.4426512564...|\n",
      "| procedimientos|b21e020e64a2...|2021-03-21 0...| 85|  1|4.4426512564...|\n",
      "|        quedaba|18dd46f597aa...|2021-03-21 0...| 85|  1|4.4426512564...|\n",
      "|       quejaron|bf790cc1d07e...|2021-03-21 0...| 85|  1|4.4426512564...|\n",
      "|     repetitiva|d5b1ce551006...|2021-03-21 0...| 85|  1|4.4426512564...|\n",
      "|           shut|ed2a11140e8d...|2021-03-21 0...| 85|  1|4.4426512564...|\n",
      "|socioemocion...|202e89bfbaa3...|2021-03-21 0...| 85|  1|4.4426512564...|\n",
      "|   solicitantes|70d59b3cac0a...|2021-03-21 0...| 85|  1|4.4426512564...|\n",
      "|           surf|61f85cb23d98...|2021-03-21 0...| 85|  1|4.4426512564...|\n",
      "|      typically|ed2a11140e8d...|2021-03-21 0...| 85|  1|4.4426512564...|\n",
      "|      verdadera|66419733e7e4...|2021-03-21 0...| 85|  1|4.4426512564...|\n",
      "|           éste|5cb5333b683d...|2021-03-21 0...| 85|  1|4.4426512564...|\n",
      "|            475|60b86f26f919...|2021-03-21 0...| 85|  1|4.4426512564...|\n",
      "|            613|b77cd49c6e49...|2021-03-21 0...| 85|  1|4.4426512564...|\n",
      "|        actores|d283aaae8850...|2021-03-21 0...| 85|  1|4.4426512564...|\n",
      "|           baño|7a3031279dfe...|2021-03-21 0...| 85|  1|4.4426512564...|\n",
      "|         brotes|8eedb3c3b3b6...|2021-03-21 0...| 85|  1|4.4426512564...|\n",
      "|         debate|270dcfd1740b...|2021-03-21 0...| 85|  1|4.4426512564...|\n",
      "|       difuntos|18dd46f597aa...|2021-03-21 0...| 85|  1|4.4426512564...|\n",
      "|    estacionado|d5b1ce551006...|2021-03-21 0...| 85|  1|4.4426512564...|\n",
      "|    fluctuación|abacfa41a5fc...|2021-03-21 0...| 85|  1|4.4426512564...|\n",
      "|       gloggles|62b5d0088902...|2021-03-21 0...| 85|  1|4.4426512564...|\n",
      "|          mason|61f85cb23d98...|2021-03-21 0...| 85|  1|4.4426512564...|\n",
      "|        octopus|6ae38bfe419d...|2021-03-21 0...| 85|  1|4.4426512564...|\n",
      "|           odio|abd44d708948...|2021-03-21 0...| 85|  1|4.4426512564...|\n",
      "|        oscuros|bf790cc1d07e...|2021-03-21 0...| 85|  1|4.4426512564...|\n",
      "|       platicar|66419733e7e4...|2021-03-21 0...| 85|  1|4.4426512564...|\n",
      "|           port|ed2a11140e8d...|2021-03-21 0...| 85|  1|4.4426512564...|\n",
      "|        puntual|bf790cc1d07e...|2021-03-21 0...| 85|  1|4.4426512564...|\n",
      "|        reiteró|c040637b801b...|2021-03-23 0...| 85|  1|4.4426512564...|\n",
      "|       rubicela|bf790cc1d07e...|2021-03-21 0...| 85|  1|4.4426512564...|\n",
      "|     sospechosa|9d7b435a84fd...|2021-03-21 0...| 85|  1|4.4426512564...|\n",
      "|        traffic|ed2a11140e8d...|2021-03-21 0...| 85|  1|4.4426512564...|\n",
      "|           wall|61f85cb23d98...|2021-03-21 0...| 85|  1|4.4426512564...|\n",
      "|            169|6b4610a37ce5...|2021-03-25 0...| 85|  1|4.4426512564...|\n",
      "|       adquirir|9f123746139b...|2021-03-21 0...| 85|  1|4.4426512564...|\n",
      "|          among|ed2a11140e8d...|2021-03-21 0...| 85|  1|4.4426512564...|\n",
      "|       antiguos|9f123746139b...|2021-03-21 0...| 85|  1|4.4426512564...|\n",
      "|        apuntar|b77cd49c6e49...|2021-03-21 0...| 85|  1|4.4426512564...|\n",
      "|        carrera|68e032f866fe...|2021-03-26 0...| 85|  1|4.4426512564...|\n",
      "|      conocidos|18dd46f597aa...|2021-03-21 0...| 85|  1|4.4426512564...|\n",
      "| contribuciones|7f3dab2ab309...|2021-03-21 0...| 85|  1|4.4426512564...|\n",
      "|            day|61f85cb23d98...|2021-03-21 0...| 85|  1|4.4426512564...|\n",
      "|     decisiones|70d59b3cac0a...|2021-03-21 0...| 85|  1|4.4426512564...|\n",
      "|      detección|31805d98e113...|2021-03-26 0...| 85|  1|4.4426512564...|\n",
      "|     económicos|0f466bacde44...|2021-03-21 0...| 85|  1|4.4426512564...|\n",
      "|        habrían|e9a418947cd6...|2021-03-19 0...| 85|  1|4.4426512564...|\n",
      "|        harmony|61f85cb23d98...|2021-03-21 0...| 85|  1|4.4426512564...|\n",
      "|           moda|9f123746139b...|2021-03-21 0...| 85|  1|4.4426512564...|\n",
      "|        módicos|6aa6971a33b9...|2021-03-21 0...| 85|  1|4.4426512564...|\n",
      "|           nova|18dd46f597aa...|2021-03-21 0...| 85|  1|4.4426512564...|\n",
      "|    presentamos|72236c94ac71...|2021-03-22 0...| 85|  1|4.4426512564...|\n",
      "|      primavera|4c2b8d97bb1c...|2021-03-21 0...| 85|  1|4.4426512564...|\n",
      "|         relata|18dd46f597aa...|2021-03-21 0...| 85|  1|4.4426512564...|\n",
      "|     respuestas|320a8502c488...|2021-03-24 0...| 85|  1|4.4426512564...|\n",
      "|          rowdy|61f85cb23d98...|2021-03-21 0...| 85|  1|4.4426512564...|\n",
      "|          rueda|1742b505699e...|2021-03-24 0...| 85|  1|4.4426512564...|\n",
      "|         santos|6aa6971a33b9...|2021-03-21 0...| 85|  1|4.4426512564...|\n",
      "|        session|61f85cb23d98...|2021-03-21 0...| 85|  1|4.4426512564...|\n",
      "|      vacunamos|06b7885989a5...|2021-03-21 0...| 85|  1|4.4426512564...|\n",
      "|          venía|18dd46f597aa...|2021-03-21 0...| 85|  1|4.4426512564...|\n",
      "|            462|6b4610a37ce5...|2021-03-25 0...| 85|  1|4.4426512564...|\n",
      "|            470|b90768906066...|2021-03-26 0...| 85|  1|4.4426512564...|\n",
      "|      acumulaba|1742b505699e...|2021-03-24 0...| 85|  1|4.4426512564...|\n",
      "|     aguardando|70d59b3cac0a...|2021-03-21 0...| 85|  1|4.4426512564...|\n",
      "|    alrededores|6aa6971a33b9...|2021-03-21 0...| 85|  1|4.4426512564...|\n",
      "+---------------+---------------+---------------+---+---+---------------+\n",
      "only showing top 150 rows\n",
      "\n"
     ]
    }
   ],
   "source": [
    "article_idf.show(150, truncate=15)"
   ]
  },
  {
   "cell_type": "code",
   "execution_count": 23,
   "id": "great-entrepreneur",
   "metadata": {},
   "outputs": [],
   "source": [
    "article_tfidf = article_tf.join(article_idf, ['article_id', 'palabra', 'publish_date'])\\\n",
    "    .withColumn('tf_idf', col('tf') * col('idf'))\\\n",
    "    .cache()"
   ]
  },
  {
   "cell_type": "code",
   "execution_count": 24,
   "id": "swiss-circus",
   "metadata": {},
   "outputs": [
    {
     "name": "stdout",
     "output_type": "stream",
     "text": [
      "+------------+------------+------------+---+----+------------+---+---+------------+------------+\n",
      "|  article_id|     palabra|publish_date|n_w| n_d|          tf|c_d|i_d|         idf|      tf_idf|\n",
      "+------------+------------+------------+---+----+------------+---+---+------------+------------+\n",
      "|ed2a11140...|         the|2021-03-2...| 60| 937|0.0640341...| 85|  5|2.8332133...|0.1814224...|\n",
      "|6ae38bfe4...|         the|2021-03-2...| 47| 788|0.0596446...| 85|  5|2.8332133...|0.1689860...|\n",
      "|61f85cb23...|         the|2021-03-2...|129|2788|0.0462697...| 85|  5|2.8332133...|0.1310920...|\n",
      "|5a9f0fdac...|     milenio|2021-03-2...|  2|  43|0.0465116...| 85|  7|2.4967411...|0.1161274...|\n",
      "|ed2a11140...|          to|2021-03-2...| 32| 937|0.0341515...| 85|  3|3.3440389...|0.1142041...|\n",
      "|ed2a11140...|          of|2021-03-2...| 31| 937|0.0330843...| 85|  3|3.3440389...|0.1106352...|\n",
      "|5a9f0fdac...|         114|2021-03-2...|  1|  43|0.0232558...| 85|  1|4.4426512...|0.1033174...|\n",
      "|5a9f0fdac...|         159|2021-03-2...|  1|  43|0.0232558...| 85|  1|4.4426512...|0.1033174...|\n",
      "|5a9f0fdac...|         910|2021-03-2...|  1|  43|0.0232558...| 85|  1|4.4426512...|0.1033174...|\n",
      "|6ae38bfe4...|         and|2021-03-2...| 24| 788|0.0304568...| 85|  3|3.3440389...|0.1018489...|\n",
      "|ea1b8d4f2...|    montreal|2021-03-2...|  6| 276|0.0217391...| 85|  1|4.4426512...|0.0965793...|\n",
      "|ed2a11140...|      border|2021-03-2...| 23| 937|0.0245464...| 85|  2|3.7495040...|0.0920369...|\n",
      "|6ae38bfe4...|          to|2021-03-2...| 21| 788|0.0266497...| 85|  3|3.3440389...|0.0891177...|\n",
      "|61f85cb23...|         and|2021-03-2...| 74|2788|0.0265423...| 85|  3|3.3440389...|0.0887585...|\n",
      "|5a9f0fdac...|         187|2021-03-2...|  1|  43|0.0232558...| 85|  2|3.7495040...|0.0871977...|\n",
      "|ed2a11140...|         and|2021-03-2...| 24| 937|0.0256136...| 85|  3|3.3440389...|0.0856530...|\n",
      "|61f85cb23...|          in|2021-03-2...| 77|2788|0.0276183...| 85|  4|3.0563568...|0.0844115...|\n",
      "|577a0e78e...|    aterrizó|2021-03-2...|  3| 165|0.0181818...| 85|  1|4.4426512...|0.0807754...|\n",
      "|ea1b8d4f2...|       david|2021-03-2...|  5| 276|0.0181159...| 85|  1|4.4426512...|0.0804828...|\n",
      "|ed2a11140...|          in|2021-03-2...| 24| 937|0.0256136...| 85|  4|3.0563568...|0.0782844...|\n",
      "|5a9f0fdac...|  detectados|2021-03-2...|  1|  43|0.0232558...| 85|  3|3.3440389...|0.0777683...|\n",
      "|03c27b6e6...|      cancún|2021-03-2...|  9| 334|0.0269461...| 85|  5|2.8332133...|0.0763440...|\n",
      "|61f85cb23...|          to|2021-03-2...| 63|2788|0.0225968...| 85|  3|3.3440389...|0.0755647...|\n",
      "|abd44d708...|         dua|2021-03-2...| 10| 597|0.0167504...| 85|  1|4.4426512...|0.0744162...|\n",
      "|6ae38bfe4...|          in|2021-03-2...| 19| 788|0.0241116...| 85|  4|3.0563568...|0.0736938...|\n",
      "|06b788598...|     quieren|2021-03-2...|  6| 365|0.0164383...| 85|  1|4.4426512...|0.0730298...|\n",
      "|61f85cb23...|          of|2021-03-2...| 56|2788|0.0200860...| 85|  3|3.3440389...|0.0671686...|\n",
      "|abd44d708...|        lipa|2021-03-2...|  9| 597|0.0150753...| 85|  1|4.4426512...|0.0669746...|\n",
      "|d453f2247...|celebraci...|2021-03-2...|  3| 150|        0.02| 85|  3|3.3440389...|0.0668807...|\n",
      "|ea1b8d4f2...|       padre|2021-03-2...|  6| 276|0.0217391...| 85|  4|3.0563568...|0.0664425...|\n",
      "|a0ce891e1...|      ciento|2021-03-2...| 16| 497|0.0321931...| 85| 12|1.9577446...|0.0630259...|\n",
      "|2aa027a3c...|      870000|2021-03-1...|  3| 212|0.0141509...| 85|  1|4.4426512...|0.0628677...|\n",
      "|5a9f0fdac...|       sigue|2021-03-2...|  1|  43|0.0232558...| 85|  6|2.6508917...|0.0616486...|\n",
      "|5a9f0fdac...|     acumula|2021-03-2...|  1|  43|0.0232558...| 85|  6|2.6508917...|0.0616486...|\n",
      "|713f2e288...|  demócratas|2021-03-2...|  4| 290|0.0137931...| 85|  1|4.4426512...|0.0612779...|\n",
      "|29a518094...| medicamento|2021-03-2...|  3| 218|0.0137614...| 85|  1|4.4426512...|0.0611374...|\n",
      "|9f1237461...|      whisky|2021-03-2...| 15|1093|0.0137236...| 85|  1|4.4426512...|0.0609695...|\n",
      "|18dd46f59...|    campanas|2021-03-2...| 13| 949|0.0136986...| 85|  1|4.4426512...|0.0608582...|\n",
      "|d453f2247...|      piedad|2021-03-2...|  2| 150|0.0133333...| 85|  1|4.4426512...|0.0592353...|\n",
      "|d453f2247...|      fieles|2021-03-2...|  2| 150|0.0133333...| 85|  1|4.4426512...|0.0592353...|\n",
      "|7f3dab2ab...|    superior|2021-03-2...|  5| 380|0.0131578...| 85|  1|4.4426512...|0.0584559...|\n",
      "|99aab4877...|        bamx|2021-03-2...|  5| 384|0.0130208...| 85|  1|4.4426512...|0.0578470...|\n",
      "|202e89bfb...|    escuelas|2021-03-2...|  6| 390|0.0153846...| 85|  2|3.7495040...|0.0576846...|\n",
      "|6d514ef70...|    naciones|2021-03-2...|  2| 155|0.0129032...| 85|  1|4.4426512...|0.0573245...|\n",
      "|5a9f0fdac...|     digital|2021-03-2...|  1|  43|0.0232558...| 85|  8|2.3632097...|0.0549583...|\n",
      "|5a9f0fdac...|        león|2021-03-2...|  1|  43|0.0232558...| 85|  8|2.3632097...|0.0549583...|\n",
      "|61f85cb23...|      cancun|2021-03-2...| 40|2788|0.0143472...| 85|  2|3.7495040...|0.0537948...|\n",
      "|8eedb3c3b...|  hospitales|2021-03-2...|  2| 106|0.0188679...| 85|  5|2.8332133...|0.0534568...|\n",
      "|7a3031279...|        uber|2021-03-2...|  6| 507|0.0118343...| 85|  1|4.4426512...|0.0525757...|\n",
      "|7a3031279...|repartidores|2021-03-2...|  6| 507|0.0118343...| 85|  1|4.4426512...|0.0525757...|\n",
      "|5a9f0fdac...|        ayer|2021-03-2...|  1|  43|0.0232558...| 85|  9|2.2454266...|0.0522192...|\n",
      "|5a9f0fdac...|    noticias|2021-03-2...|  1|  43|0.0232558...| 85|  9|2.2454266...|0.0522192...|\n",
      "|5a9f0fdac...|     reportó|2021-03-2...|  1|  43|0.0232558...| 85|  9|2.2454266...|0.0522192...|\n",
      "|577a0e78e...|pfizerbio...|2021-03-2...|  3| 165|0.0181818...| 85|  5|2.8332133...|0.0515129...|\n",
      "|202e89bfb...|      padres|2021-03-2...|  6| 390|0.0153846...| 85|  3|3.3440389...|0.0514467...|\n",
      "|6ae38bfe4...|          at|2021-03-2...| 12| 788|0.0152284...| 85|  3|3.3440389...|0.0509244...|\n",
      "|6ae38bfe4...|          of|2021-03-2...| 12| 788|0.0152284...| 85|  3|3.3440389...|0.0509244...|\n",
      "|06b788598...|     vacunar|2021-03-2...|  7| 365|0.0191780...| 85|  6|2.6508917...|0.0508390...|\n",
      "|8eedb3c3b...|   comunidad|2021-03-2...|  2| 106|0.0188679...| 85|  6|2.6508917...|0.0500168...|\n",
      "|8eedb3c3b...|       siete|2021-03-2...|  2| 106|0.0188679...| 85|  6|2.6508917...|0.0500168...|\n",
      "|9f1237461...|    botellas|2021-03-2...| 12|1093|0.0109789...| 85|  1|4.4426512...|0.0487756...|\n",
      "|9f1237461...|    macallan|2021-03-2...| 12|1093|0.0109789...| 85|  1|4.4426512...|0.0487756...|\n",
      "|06b788598...| privilegios|2021-03-2...|  4| 365|0.0109589...| 85|  1|4.4426512...|0.0486865...|\n",
      "|06b788598...|   conservar|2021-03-2...|  4| 365|0.0109589...| 85|  1|4.4426512...|0.0486865...|\n",
      "|29a518094...|    cofepris|2021-03-2...|  4| 218|0.0183486...| 85|  6|2.6508917...|0.0486402...|\n",
      "|ea1b8d4f2...|   melgarejo|2021-03-2...|  3| 276|0.0108695...| 85|  1|4.4426512...|0.0482896...|\n",
      "|b17ec6dd3...|      vuelos|2021-03-2...|  2| 140|0.0142857...| 85|  3|3.3440389...|0.0477719...|\n",
      "|b17ec6dd3...|provenientes|2021-03-2...|  2| 140|0.0142857...| 85|  3|3.3440389...|0.0477719...|\n",
      "|5a9f0fdac...|          22|2021-03-2...|  1|  43|0.0232558...| 85| 11|2.0447559...|0.0475524...|\n",
      "|5a9f0fdac...|       mundo|2021-03-2...|  1|  43|0.0232558...| 85| 11|2.0447559...|0.0475524...|\n",
      "|ed2a11140...|        from|2021-03-2...| 13| 937|0.0138740...| 85|  3|3.3440389...|0.0463954...|\n",
      "|99aab4877...|     corteva|2021-03-2...|  4| 384|0.0104166...| 85|  1|4.4426512...|0.0462776...|\n",
      "|99aab4877...| comunidades|2021-03-2...|  4| 384|0.0104166...| 85|  1|4.4426512...|0.0462776...|\n",
      "|713f2e288...|  suministro|2021-03-2...|  3| 290|0.0103448...| 85|  1|4.4426512...|0.0459584...|\n",
      "|593c6c23d...| internación|2021-03-1...|  2| 195|0.0102564...| 85|  1|4.4426512...|0.0455656...|\n",
      "|5cb5333b6...|        acta|2021-03-2...|  7| 577|0.0121317...| 85|  2|3.7495040...|0.0454879...|\n",
      "|577a0e78e...|       avión|2021-03-2...|  2| 165|0.0121212...| 85|  2|3.7495040...|0.0454485...|\n",
      "|577a0e78e...|        aicm|2021-03-2...|  2| 165|0.0121212...| 85|  2|3.7495040...|0.0454485...|\n",
      "|577a0e78e...|         625|2021-03-2...|  2| 165|0.0121212...| 85|  2|3.7495040...|0.0454485...|\n",
      "|abd44d708...|    cantante|2021-03-2...|  6| 597|0.0100502...| 85|  1|4.4426512...|0.0446497...|\n",
      "|8eedb3c3b...|       cifra|2021-03-2...|  2| 106|0.0188679...| 85|  8|2.3632097...|0.0445888...|\n",
      "|d453f2247...|     tendrán|2021-03-2...|  2| 150|0.0133333...| 85|  3|3.3440389...|0.0445871...|\n",
      "|d283aaae8...|   ortizgris|2021-03-2...|  3| 299|0.0100334...| 85|  1|4.4426512...|0.0445750...|\n",
      "|039459da2...|conversación|2021-03-1...|  2| 200|        0.01| 85|  1|4.4426512...|0.0444265...|\n",
      "|8327c6e59...|       euros|2021-03-2...|  7| 707|0.0099009...| 85|  1|4.4426512...|0.0439866...|\n",
      "|b17ec6dd3...|      brasil|2021-03-2...|  3| 140|0.0214285...| 85| 11|2.0447559...|0.0438161...|\n",
      "|7a3031279...|        eats|2021-03-2...|  5| 507|0.0098619...| 85|  1|4.4426512...|0.0438131...|\n",
      "|593c6c23d...|    frontera|2021-03-1...|  3| 195|0.0153846...| 85|  5|2.8332133...|0.0435878...|\n",
      "|ed2a11140...|        said|2021-03-2...| 12| 937|0.0128068...| 85|  3|3.3440389...|0.0428265...|\n",
      "|6ae38bfe4...|          on|2021-03-2...| 10| 788|0.0126903...| 85|  3|3.3440389...|0.0424370...|\n",
      "|03c27b6e6...|  argentinos|2021-03-2...|  5| 334|0.0149700...| 85|  5|2.8332133...|0.0424133...|\n",
      "|29a518094...|    comisión|2021-03-2...|  3| 218|0.0137614...| 85|  4|3.0563568...|0.0420599...|\n",
      "|5a9f0fdac...| defunciones|2021-03-2...|  1|  43|0.0232558...| 85| 14|1.8035939...|0.0419440...|\n",
      "|8eedb3c3b...|  consejería|2021-03-2...|  1| 106|0.0094339...| 85|  1|4.4426512...|0.0419118...|\n",
      "|2aa027a3c...|      cederá|2021-03-1...|  2| 212|0.0094339...| 85|  1|4.4426512...|0.0419118...|\n",
      "|8eedb3c3b...|  vinculados|2021-03-2...|  1| 106|0.0094339...| 85|  1|4.4426512...|0.0419118...|\n",
      "|8eedb3c3b...|        1590|2021-03-2...|  1| 106|0.0094339...| 85|  1|4.4426512...|0.0419118...|\n",
      "|8eedb3c3b...|      quince|2021-03-2...|  1| 106|0.0094339...| 85|  1|4.4426512...|0.0419118...|\n",
      "|8eedb3c3b...|   ofrecidos|2021-03-2...|  1| 106|0.0094339...| 85|  1|4.4426512...|0.0419118...|\n",
      "|8eedb3c3b...|      brotes|2021-03-2...|  1| 106|0.0094339...| 85|  1|4.4426512...|0.0419118...|\n",
      "|8eedb3c3b...|   ascienden|2021-03-2...|  1| 106|0.0094339...| 85|  1|4.4426512...|0.0419118...|\n",
      "|8eedb3c3b...|    castilla|2021-03-2...|  1| 106|0.0094339...| 85|  1|4.4426512...|0.0419118...|\n",
      "|8eedb3c3b...|        5523|2021-03-2...|  1| 106|0.0094339...| 85|  1|4.4426512...|0.0419118...|\n",
      "|8eedb3c3b...|      215281|2021-03-2...|  1| 106|0.0094339...| 85|  1|4.4426512...|0.0419118...|\n",
      "|8eedb3c3b...|         142|2021-03-2...|  1| 106|0.0094339...| 85|  1|4.4426512...|0.0419118...|\n",
      "|8eedb3c3b...|       27681|2021-03-2...|  1| 106|0.0094339...| 85|  1|4.4426512...|0.0419118...|\n",
      "|474e010bc...|         mil|2021-03-2...|  9| 189|0.0476190...| 85| 36|0.8591323...|0.0409110...|\n",
      "|2aa027a3c...| astrazeneca|2021-03-1...|  5| 212|0.0235849...| 85| 15|1.7346010...|0.0409104...|\n",
      "|29a518094...|  napabeltan|2021-03-2...|  2| 218|0.0091743...| 85|  1|4.4426512...|0.0407582...|\n",
      "|ea1b8d4f2...|       joven|2021-03-2...|  3| 276|0.0108695...| 85|  2|3.7495040...|0.0407554...|\n",
      "|62b5d0088...|nezahualc...|2021-03-2...|  5| 461|0.0108459...| 85|  2|3.7495040...|0.0406670...|\n",
      "|a0ce891e1...|      agosto|2021-03-2...|  6| 497|0.0120724...| 85|  3|3.3440389...|0.0403706...|\n",
      "|5a9f0fdac...|     últimas|2021-03-2...|  1|  43|0.0232558...| 85| 15|1.7346010...|0.0403395...|\n",
      "|5a9f0fdac...|         mil|2021-03-2...|  2|  43|0.0465116...| 85| 36|0.8591323...|0.0399596...|\n",
      "|562d622a5...|         mil|2021-03-2...| 14| 301|0.0465116...| 85| 36|0.8591323...|0.0399596...|\n",
      "|03c27b6e6...|          cv|2021-03-2...|  3| 334|0.0089820...| 85|  1|4.4426512...|0.0399040...|\n",
      "|03c27b6e6...|          sa|2021-03-2...|  3| 334|0.0089820...| 85|  1|4.4426512...|0.0399040...|\n",
      "|72236c94a...|     cansino|2021-03-2...| 12| 711|0.0168776...| 85|  8|2.3632097...|0.0398853...|\n",
      "|ed2a11140...|        that|2021-03-2...| 11| 937|0.0117395...| 85|  3|3.3440389...|0.0392576...|\n",
      "|5a9f0fdac...| actualmente|2021-03-2...|  1|  43|0.0232558...| 85| 16|1.6700625...|0.0388386...|\n",
      "|bc1da0118...|     precios|2021-03-2...|  9| 780|0.0115384...| 85|  3|3.3440389...|0.0385850...|\n",
      "|62b5d0088...|   vehicular|2021-03-2...|  4| 461|0.0086767...| 85|  1|4.4426512...|0.0385479...|\n",
      "|593c6c23d...|         inm|2021-03-1...|  2| 195|0.0102564...| 85|  2|3.7495040...|0.0384564...|\n",
      "|61f85cb23...|          at|2021-03-2...| 32|2788|0.0114777...| 85|  3|3.3440389...|0.0383820...|\n",
      "|6ae38bfe4...|         for|2021-03-2...|  9| 788|0.0114213...| 85|  3|3.3440389...|0.0381933...|\n",
      "|6ae38bfe4...|         are|2021-03-2...|  9| 788|0.0114213...| 85|  3|3.3440389...|0.0381933...|\n",
      "|c040637b8...|        casa|2021-03-2...|  8| 449|0.0178173...| 85| 10|2.1400661...|0.0381303...|\n",
      "|6b4610a37...|     diarios|2021-03-2...|  4| 352|0.0113636...| 85|  3|3.3440389...|0.0380004...|\n",
      "|b17ec6dd3...|       chile|2021-03-2...|  2| 140|0.0142857...| 85|  6|2.6508917...|0.0378698...|\n",
      "|8327c6e59...|      aramco|2021-03-2...|  6| 707|0.0084865...| 85|  1|4.4426512...|0.0377028...|\n",
      "|039459da2...|     próxima|2021-03-1...|  2| 200|        0.01| 85|  2|3.7495040...|0.0374950...|\n",
      "|562d622a5...|         250|2021-03-2...|  3| 301|0.0099667...| 85|  2|3.7495040...|0.0373704...|\n",
      "|562d622a5...|        ayer|2021-03-2...|  5| 301|0.0166112...| 85|  9|2.2454266...|0.0372994...|\n",
      "|9718ae87e...|    ocupadas|2021-03-2...|  2| 202|0.0099009...| 85|  2|3.7495040...|0.0371238...|\n",
      "|8eedb3c3b...|       ellas|2021-03-2...|  2| 106|0.0188679...| 85| 12|1.9577446...|0.0369385...|\n",
      "|a0ce891e1...|        edad|2021-03-2...|  6| 497|0.0120724...| 85|  4|3.0563568...|0.0368976...|\n",
      "|e7d826dfb...|      clases|2021-03-2...|  7| 583|0.0120068...| 85|  4|3.0563568...|0.0366972...|\n",
      "|6b4610a37...|         mil|2021-03-2...| 15| 352|0.0426136...| 85| 36|0.8591323...|0.0366107...|\n",
      "|6d514ef70...|  argentinos|2021-03-2...|  2| 155|0.0129032...| 85|  5|2.8332133...|0.0365575...|\n",
      "|06b788598...|conservad...|2021-03-2...|  3| 365|0.0082191...| 85|  1|4.4426512...|0.0365149...|\n",
      "|20e7a2da5...|      alomía|2021-03-2...|  2| 137|0.0145985...| 85|  7|2.4967411...|0.0364487...|\n",
      "|ea1b8d4f2...|      canadá|2021-03-2...|  4| 276|0.0144927...| 85|  7|2.4967411...|0.0361846...|\n",
      "|a0ce891e1...|         dge|2021-03-2...|  4| 497|0.0080482...| 85|  1|4.4426512...|0.0357557...|\n",
      "|4c2b8d97b...|  equinoccio|2021-03-2...|  7| 876|0.0079908...| 85|  1|4.4426512...|0.0355006...|\n",
      "|8eedb3c3b...|         245|2021-03-2...|  1| 106|0.0094339...| 85|  2|3.7495040...|0.0353726...|\n",
      "|8eedb3c3b...|     sanidad|2021-03-2...|  1| 106|0.0094339...| 85|  2|3.7495040...|0.0353726...|\n",
      "|8eedb3c3b...|       altas|2021-03-2...|  1| 106|0.0094339...| 85|  2|3.7495040...|0.0353726...|\n",
      "|8eedb3c3b...|estadísticas|2021-03-2...|  1| 106|0.0094339...| 85|  2|3.7495040...|0.0353726...|\n",
      "|8eedb3c3b...|  publicadas|2021-03-2...|  1| 106|0.0094339...| 85|  2|3.7495040...|0.0353726...|\n",
      "|8eedb3c3b...|       eleva|2021-03-2...|  1| 106|0.0094339...| 85|  2|3.7495040...|0.0353726...|\n",
      "+------------+------------+------------+---+----+------------+---+---+------------+------------+\n",
      "only showing top 150 rows\n",
      "\n"
     ]
    }
   ],
   "source": [
    "article_tfidf.orderBy('tf_idf', ascending=False).show(150,truncate=12)"
   ]
  },
  {
   "cell_type": "code",
   "execution_count": 25,
   "id": "dense-kruger",
   "metadata": {},
   "outputs": [],
   "source": [
    "w = Window.partitionBy('article_id').orderBy(col('tf_idf').desc())\n",
    "\n",
    "article_tfidf_top_15=article_tfidf.withColumn('rank', rank().over(w))\\\n",
    "    .where('rank <= 15')\\\n",
    "    .drop('rank')\\\n",
    "    .orderBy('article_id', 'tf_idf','n_w')\\\n",
    "    .select('article_id','publish_date','palabra','n_w','tf_idf')"
   ]
  },
  {
   "cell_type": "code",
   "execution_count": 26,
   "id": "indoor-warehouse",
   "metadata": {},
   "outputs": [
    {
     "name": "stdout",
     "output_type": "stream",
     "text": [
      "+------------+------------+------------+---+------------+\n",
      "|  article_id|publish_date|     palabra|n_w|      tf_idf|\n",
      "+------------+------------+------------+---+------------+\n",
      "|039459da2...|2021-03-1...|      señalo|  1|0.0222132...|\n",
      "|039459da2...|2021-03-1...|funcionarios|  1|0.0222132...|\n",
      "|039459da2...|2021-03-1...|   agradezco|  1|0.0222132...|\n",
      "|039459da2...|2021-03-1...|    impulsar|  1|0.0222132...|\n",
      "|039459da2...|2021-03-1...|   ayudarnos|  1|0.0222132...|\n",
      "|039459da2...|2021-03-1...|    homólogo|  1|0.0222132...|\n",
      "|039459da2...|2021-03-1...|  telefónica|  1|0.0222132...|\n",
      "|039459da2...|2021-03-1...|    abordado|  1|0.0222132...|\n",
      "|039459da2...|2021-03-1...|        pedí|  1|0.0222132...|\n",
      "|039459da2...|2021-03-1...|   enviarnos|  1|0.0222132...|\n",
      "|039459da2...|2021-03-1...|     logrará|  1|0.0222132...|\n",
      "|039459da2...|2021-03-1...|     calculo|  1|0.0222132...|\n",
      "|039459da2...|2021-03-1...|        tema|  2|0.0224542...|\n",
      "|039459da2...|2021-03-1...|       biden|  2|0.0236320...|\n",
      "|039459da2...|2021-03-1...|     vacunas|  6|0.0257739...|\n",
      "|039459da2...|2021-03-1...|     expresó|  2|0.0305635...|\n",
      "|039459da2...|2021-03-1...|         700|  2|0.0305635...|\n",
      "|039459da2...|2021-03-1...|    llegarán|  2|0.0334403...|\n",
      "|039459da2...|2021-03-1...|     próxima|  2|0.0374950...|\n",
      "|039459da2...|2021-03-1...|conversación|  2|0.0444265...|\n",
      "|03c27b6e6...|2021-03-2...|     pruebas|  3|0.0224258...|\n",
      "|03c27b6e6...|2021-03-2...|investiga...|  3|0.0224258...|\n",
      "|03c27b6e6...|2021-03-2...|    detectar|  2|0.0224521...|\n",
      "|03c27b6e6...|2021-03-2...|    solicitó|  2|0.0224521...|\n",
      "|03c27b6e6...|2021-03-2...|      marbus|  2|0.0266027...|\n",
      "|03c27b6e6...|2021-03-2...|    fernando|  2|0.0266027...|\n",
      "|03c27b6e6...|2021-03-2...|ministeri...|  2|0.0266027...|\n",
      "|03c27b6e6...|2021-03-2...|        mora|  2|0.0266027...|\n",
      "|03c27b6e6...|2021-03-2...|     empresa|  4|0.0268913...|\n",
      "|03c27b6e6...|2021-03-2...|    quintana|  4|0.0283019...|\n",
      "+------------+------------+------------+---+------------+\n",
      "only showing top 30 rows\n",
      "\n"
     ]
    }
   ],
   "source": [
    "article_tfidf_top_15.show(truncate=12, n=30)"
   ]
  },
  {
   "cell_type": "code",
   "execution_count": 27,
   "id": "thorough-schedule",
   "metadata": {},
   "outputs": [],
   "source": [
    "article_tfidf_top_15_site = article_tfidf_top_15.join(df_news_covid_mexico_date_text, ['article_id','publish_date']).select('article_id','publish_date','site','palabra','n_w','tf_idf')"
   ]
  },
  {
   "cell_type": "code",
   "execution_count": 28,
   "id": "bridal-israeli",
   "metadata": {},
   "outputs": [
    {
     "name": "stdout",
     "output_type": "stream",
     "text": [
      "+--------------------+-------------------+---------------+----------------+---+--------------------+\n",
      "|          article_id|       publish_date|           site|         palabra|n_w|              tf_idf|\n",
      "+--------------------+-------------------+---------------+----------------+---+--------------------+\n",
      "|e386a6062c63e081c...|2021-03-21 00:00:00|www.infobae.com|correspondientes|  2| 0.02551621226311474|\n",
      "|e386a6062c63e081c...|2021-03-21 00:00:00|www.infobae.com|            5811|  1|0.025242336684604072|\n",
      "|e386a6062c63e081c...|2021-03-21 00:00:00|www.infobae.com|      acumulando|  1|0.025242336684604072|\n",
      "|e386a6062c63e081c...|2021-03-21 00:00:00|www.infobae.com|           66041|  1|0.025242336684604072|\n",
      "|e386a6062c63e081c...|2021-03-21 00:00:00|www.infobae.com|         2193639|  2|0.024318933676093987|\n",
      "|e386a6062c63e081c...|2021-03-21 00:00:00|www.infobae.com|       contagios|  5|  0.0236287881774458|\n",
      "|e386a6062c63e081c...|2021-03-21 00:00:00|www.infobae.com|      fallecidas|  2|0.023235863451044843|\n",
      "|e386a6062c63e081c...|2021-03-21 00:00:00|www.infobae.com|        positivo|  2|0.022247097803435412|\n",
      "|e386a6062c63e081c...|2021-03-21 00:00:00|www.infobae.com|              21|  3| 0.02155563794560859|\n",
      "|e386a6062c63e081c...|2021-03-21 00:00:00|www.infobae.com|       afectados|  2|  0.0213375215798725|\n",
      "|e386a6062c63e081c...|2021-03-21 00:00:00|www.infobae.com|        contagio|  2|  0.0213375215798725|\n",
      "|e386a6062c63e081c...|2021-03-21 00:00:00|www.infobae.com|          primer|  3|0.020859808493558788|\n",
      "|e386a6062c63e081c...|2021-03-21 00:00:00|www.infobae.com|        coahuila|  1| 0.01900022140808072|\n",
      "|e386a6062c63e081c...|2021-03-21 00:00:00|www.infobae.com|     actualmente|  2|0.018977983343756083|\n",
      "|e386a6062c63e081c...|2021-03-21 00:00:00|www.infobae.com|           total|  3|0.017193137250088128|\n",
      "+--------------------+-------------------+---------------+----------------+---+--------------------+\n",
      "only showing top 15 rows\n",
      "\n"
     ]
    }
   ],
   "source": [
    "article_tfidf_top_15_site.show(15)"
   ]
  },
  {
   "cell_type": "code",
   "execution_count": 29,
   "id": "geological-diameter",
   "metadata": {},
   "outputs": [],
   "source": [
    "article_tfidf_top_15_site.write.jdbc(url=url, table=\"tb_news_covid_mexico_palabras_top_tfidf\", mode=mode, properties=properties)"
   ]
  },
  {
   "cell_type": "code",
   "execution_count": null,
   "id": "local-durham",
   "metadata": {},
   "outputs": [],
   "source": []
  }
 ],
 "metadata": {
  "kernelspec": {
   "display_name": "Python 3",
   "language": "python",
   "name": "python3"
  },
  "language_info": {
   "codemirror_mode": {
    "name": "ipython",
    "version": 3
   },
   "file_extension": ".py",
   "mimetype": "text/x-python",
   "name": "python",
   "nbconvert_exporter": "python",
   "pygments_lexer": "ipython3",
   "version": "3.8.8"
  }
 },
 "nbformat": 4,
 "nbformat_minor": 5
}
